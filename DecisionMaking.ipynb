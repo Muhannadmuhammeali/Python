{
  "nbformat": 4,
  "nbformat_minor": 0,
  "metadata": {
    "colab": {
      "provenance": [],
      "authorship_tag": "ABX9TyM+vC8poS/rPFXoti1N0hOG",
      "include_colab_link": true
    },
    "kernelspec": {
      "name": "python3",
      "display_name": "Python 3"
    },
    "language_info": {
      "name": "python"
    }
  },
  "cells": [
    {
      "cell_type": "markdown",
      "metadata": {
        "id": "view-in-github",
        "colab_type": "text"
      },
      "source": [
        "<a href=\"https://colab.research.google.com/github/Muhannadmuhammeali/Python/blob/main/DecisionMaking.ipynb\" target=\"_parent\"><img src=\"https://colab.research.google.com/assets/colab-badge.svg\" alt=\"Open In Colab\"/></a>"
      ]
    },
    {
      "cell_type": "code",
      "execution_count": null,
      "metadata": {
        "colab": {
          "base_uri": "https://localhost:8080/"
        },
        "id": "ZeMjc6zpVl0J",
        "outputId": "44e50fbc-edc8-40e1-dcb5-f51793654293"
      },
      "outputs": [
        {
          "output_type": "stream",
          "name": "stdout",
          "text": [
            "Enter 1st Number : 12\n",
            "Enter 2nd Number : 100\n",
            "The Largest Number is  100\n"
          ]
        }
      ],
      "source": [
        "a=int(input(\"Enter 1st Number : \"))\n",
        "b=int(input(\"Enter 2nd Number : \"))\n",
        "if a>b :\n",
        "  print(\"The Largest Number is \",a)\n",
        "else :\n",
        "  print(\"The Largest Number is \",b)"
      ]
    },
    {
      "cell_type": "code",
      "source": [
        "a=int(input(\"Enter the Number : \"))\n",
        "if a%2==0 :\n",
        "  print(\"The Number is Even\")\n",
        "else :\n",
        "  print(\"The Number is Odd\")"
      ],
      "metadata": {
        "colab": {
          "base_uri": "https://localhost:8080/"
        },
        "id": "_Ycx8K95XXUX",
        "outputId": "b2ef0d9a-e3f7-4b69-8681-7b703727d2d9"
      },
      "execution_count": null,
      "outputs": [
        {
          "output_type": "stream",
          "name": "stdout",
          "text": [
            "Enter the Number : 41\n",
            "The Number is Odd\n"
          ]
        }
      ]
    },
    {
      "cell_type": "code",
      "source": [
        "a=int(input(\"Enter the Number : \"))\n",
        "if a>0 :\n",
        "  print(\"The Number is positive\")\n",
        "elif a<0 :\n",
        "  print(\"The Number is Negetive\")\n",
        "else :\n",
        "  print(\"The Number is Zero\")"
      ],
      "metadata": {
        "colab": {
          "base_uri": "https://localhost:8080/"
        },
        "id": "T7slHjfvX_wx",
        "outputId": "0d83d805-dc8b-4f9f-d48e-e052a0b23efd"
      },
      "execution_count": null,
      "outputs": [
        {
          "output_type": "stream",
          "name": "stdout",
          "text": [
            "Enter the Number : 0\n",
            "The Number is Zero\n"
          ]
        }
      ]
    },
    {
      "cell_type": "code",
      "source": [
        "a=int(input(\"Enter the Number : \"))\n",
        "if a>9 and a<100 :\n",
        "  print(\"The Number is 2-Digit Number\")\n",
        "else :\n",
        "  print(\"The Number is not 2-Digit Number\")"
      ],
      "metadata": {
        "colab": {
          "base_uri": "https://localhost:8080/"
        },
        "id": "PLUuWP7UYrxQ",
        "outputId": "35d686fc-26ca-4fe9-95b8-5e689f65278c"
      },
      "execution_count": null,
      "outputs": [
        {
          "output_type": "stream",
          "name": "stdout",
          "text": [
            "Enter the Number : 999\n",
            "The Number is not 2-Digit Number\n"
          ]
        }
      ]
    },
    {
      "cell_type": "code",
      "source": [
        "a=int(input(\"Enter Coefficient of x^2 :\" ))\n",
        "b=int(input(\"Enter Coefficiet of x : \"))\n",
        "c=int(input(\"Enter Value of constant : \"))\n",
        "d=(b*b)-4*a*c\n",
        "if d>0 :\n",
        "  print(\"The Quadratic Equation has Real Roots\")\n",
        "elif d<0 :\n",
        "  print(\"The Quadratic Equation has No Real Roots\")\n",
        "else :\n",
        "  print(\"The Quadratic Equation has Real and Equal Roots\")"
      ],
      "metadata": {
        "colab": {
          "base_uri": "https://localhost:8080/"
        },
        "id": "yaMJl0luZlCi",
        "outputId": "9310586b-677e-4abc-df13-f6a3926719e8"
      },
      "execution_count": null,
      "outputs": [
        {
          "output_type": "stream",
          "name": "stdout",
          "text": [
            "Enter Coefficient of x^2 :1\n",
            "Enter Coefficiet of x : 5\n",
            "Enter Value of constant : 6\n",
            "The Quadratic Equation has Real Roots\n"
          ]
        }
      ]
    },
    {
      "cell_type": "code",
      "source": [
        "a=int(input(\"Enter 1st Number : \"))\n",
        "b=int(input(\"Enter 2nd Number : \"))\n",
        "c=int(input(\"Enter 3rd Number : \"))\n",
        "if a<b and a<c :\n",
        "  print(\"The smallest Among the 3 Number is \",a)\n",
        "elif b<a and b<c :\n",
        "   print(\"The smallest Among the 3 Number is \",b)\n",
        "else :\n",
        "   print(\"The smallest Among the 3 Number is \",c)"
      ],
      "metadata": {
        "colab": {
          "base_uri": "https://localhost:8080/"
        },
        "id": "r37lcdD3a0qC",
        "outputId": "0e60caec-6cf1-4c51-edd3-e38c58f57575"
      },
      "execution_count": null,
      "outputs": [
        {
          "output_type": "stream",
          "name": "stdout",
          "text": [
            "Enter 1st Number : 3\n",
            "Enter 2nd Number : 1\n",
            "Enter 3rd Number : 0\n",
            "The smallest Among the 3 Number is  0\n"
          ]
        }
      ]
    },
    {
      "cell_type": "code",
      "source": [
        "a=int(input(\"Enter a 2-Digit Number : \"))\n",
        "b=a//10\n",
        "c=a%10\n",
        "if b>0 :\n",
        "  if b<c :\n",
        "    print(\"The smallest number is \",b)\n",
        "  elif b==c :\n",
        "    print(\"the number are equal\")\n",
        "  else :\n",
        "    print(\"The smallest number is \",c)\n",
        "else :\n",
        "  The number is not 2- digit"
      ],
      "metadata": {
        "colab": {
          "base_uri": "https://localhost:8080/"
        },
        "id": "eNLtp19Kc2kK",
        "outputId": "73a0daa0-1e89-48d7-ad0d-4bed8bf8ba13"
      },
      "execution_count": null,
      "outputs": [
        {
          "output_type": "stream",
          "name": "stdout",
          "text": [
            "Enter a 2-Digit Number : 33\n",
            "the number are equal\n"
          ]
        }
      ]
    },
    {
      "cell_type": "code",
      "source": [
        "a=int(input(\"Enter 1st Number : \"))\n",
        "b=int(input(\"Enter to check Divisiblity of : \"))\n",
        "if a%b==0 :\n",
        "  print(\"The Number \",a,\"is divisible by\",b)\n",
        "else :\n",
        "  print(\"The Number \",a,\"is not divisible by\",b)"
      ],
      "metadata": {
        "colab": {
          "base_uri": "https://localhost:8080/"
        },
        "id": "GRN4LEQ6d0kR",
        "outputId": "6402a3a2-d6c4-4125-a973-7b7fe40abc63"
      },
      "execution_count": null,
      "outputs": [
        {
          "output_type": "stream",
          "name": "stdout",
          "text": [
            "Enter 1st Number : 14\n",
            "Enter to check Divisiblity of : 3\n",
            "The Number  14 is not divisible by 3\n"
          ]
        }
      ]
    },
    {
      "cell_type": "code",
      "source": [
        "a=int(input(\"Enter the year you want to check whether it is Leap year : \"))\n",
        "if a%4==0 :\n",
        "  print(\"The year\",a,\" is Leap Year\")\n",
        "else :\n",
        "  print(\"The year\",a,\" is not Leap Year\")"
      ],
      "metadata": {
        "colab": {
          "base_uri": "https://localhost:8080/"
        },
        "id": "6A1_O2p8er55",
        "outputId": "661e6805-a364-40d9-add8-7809dbaf859c"
      },
      "execution_count": null,
      "outputs": [
        {
          "output_type": "stream",
          "name": "stdout",
          "text": [
            "Enter the year you want to check whether it is Leap year : 1900\n",
            "The year 1900  is Leap Year\n"
          ]
        }
      ]
    },
    {
      "cell_type": "code",
      "source": [
        "a=int(input(\"Enter the year you want to check whether it is Leap year : \"))\n",
        "b=int(input(\"Enter the year you want to check whether it is Leap year : \"))"
      ],
      "metadata": {
        "id": "JvNcKZk4fgli"
      },
      "execution_count": null,
      "outputs": []
    }
  ]
}