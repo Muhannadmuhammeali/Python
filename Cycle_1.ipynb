{
  "cells": [
    {
      "cell_type": "markdown",
      "metadata": {
        "id": "view-in-github",
        "colab_type": "text"
      },
      "source": [
        "<a href=\"https://colab.research.google.com/github/Muhannadmuhammeali/Python/blob/main/Cycle_1.ipynb\" target=\"_parent\"><img src=\"https://colab.research.google.com/assets/colab-badge.svg\" alt=\"Open In Colab\"/></a>"
      ]
    },
    {
      "cell_type": "code",
      "execution_count": null,
      "metadata": {
        "colab": {
          "base_uri": "https://localhost:8080/"
        },
        "id": "vJVJ9YsScyO_",
        "outputId": "c91191c1-aa27-4f6e-df80-4505756fdd24"
      },
      "outputs": [
        {
          "name": "stdout",
          "output_type": "stream",
          "text": [
            "Enter a 4 digit-number : 4321\n",
            "Sum of Digits :  10\n",
            "Reverse :  1234\n",
            "Difference b/w the product of digits at odd position and even position :  5\n"
          ]
        }
      ],
      "source": [
        "a=int(input(\"Enter a 4 digit-number : \"))\n",
        "bb=a%10\n",
        "b=a//10\n",
        "cc=b%10\n",
        "c=b//10\n",
        "dd=c%10\n",
        "d=c//10\n",
        "ee=d%10\n",
        "print(\"Sum of Digits : \",bb+cc+dd+ee)\n",
        "print(\"Reverse : \",bb*1000+cc*100+dd*10+ee)\n",
        "print(\"Difference b/w the product of digits at odd position and even position : \",ee*cc-bb*dd)"
      ]
    },
    {
      "cell_type": "code",
      "execution_count": null,
      "metadata": {
        "colab": {
          "base_uri": "https://localhost:8080/"
        },
        "id": "JfVI18Affq9E",
        "outputId": "a3cd3ac0-229d-4f76-e80f-45359346f0e6"
      },
      "outputs": [
        {
          "name": "stdout",
          "output_type": "stream",
          "text": [
            "Enter the First side of 1st Triangle : 3\n",
            "Enter the Second side of 1st Triangle : 4\n",
            "Enter the Third side of 1st Triangle : 5\n",
            "Enter the First side of 1st Triangle : 5\n",
            "Enter the Second side of 1st Triangle : 12\n",
            "Enter the Third side of 1st Triangle : 13\n",
            "Area of the Triangle is  6.0\n",
            "s =  6.0\n",
            "Area of the Triangle is  30.0\n",
            "s =  15.0\n",
            "Total Area :  36.0\n",
            "Contribution of 1st Triangle :  16.666666666666668\n",
            "Contribution of 2nd Triangle :  83.33333333333333\n"
          ]
        }
      ],
      "source": [
        "def read() :\n",
        "  j=int(input(\"Enter the First side of 1st Triangle : \"))\n",
        "  k=int(input(\"Enter the Second side of 1st Triangle : \"))\n",
        "  l=int(input(\"Enter the Third side of 1st Triangle : \"))\n",
        "  return j,k,l\n",
        "a,b,c=read()\n",
        "d,e,f=read()\n",
        "def area(x,y,z) :\n",
        "  s=(x+y+z)/2\n",
        "  A=(s*(s-x)*(s-y)*(s-z))**(1/2)\n",
        "  print(\"Area of the Triangle is \",A)\n",
        "  print(\"s = \",s)\n",
        "  return A\n",
        "\n",
        "a1=area(a,b,c)\n",
        "a2=area(d,e,f)\n",
        "print(\"Total Area : \",a1+a2)\n",
        "print(\"Contribution of 1st Triangle : \",(a1*100)/(a1+a2))\n",
        "print(\"Contribution of 2nd Triangle : \",(a2*100)/(a1+a2))"
      ]
    },
    {
      "cell_type": "code",
      "execution_count": null,
      "metadata": {
        "colab": {
          "base_uri": "https://localhost:8080/"
        },
        "id": "Q7jCMrOejfVV",
        "outputId": "1e1b048e-3faa-41af-eff3-397055bafe5b"
      },
      "outputs": [
        {
          "name": "stdout",
          "output_type": "stream",
          "text": [
            "Enter Your Sal : 100000000\n",
            "Your Salary is  100000000\n",
            "DA :  25000000.0\n",
            "HRA :  11000000.0\n",
            "MA :  7000\n",
            "PT :  80\n",
            "PF :  12000000.0\n",
            "IT :  20000000.0\n",
            "Gross Salary :  36007000.0\n",
            "Deduction :  32000080.0\n",
            "Net Salary :  104006920.0\n"
          ]
        }
      ],
      "source": [
        "s=int(input(\"Enter Your Sal : \"))\n",
        "if s<10000 :\n",
        "  DA=(5/100)*s\n",
        "  HRA=(2.5/100)*s\n",
        "  MA=500\n",
        "  PT=20\n",
        "  PF=(8/100)*s\n",
        "  IT=0\n",
        "elif s>=10000 and s<30000 :\n",
        "  DA=(7.5/100)*s\n",
        "  HRA=(5/100)*s\n",
        "  MA=2500\n",
        "  PT=60\n",
        "  PF=(8/100)*s\n",
        "  IT=0\n",
        "elif s>=30000 and s<50000 :\n",
        "  DA=(11/100)*s\n",
        "  HRA=(7.5/100)*s\n",
        "  MA=5000\n",
        "  PT=60\n",
        "  PF=(11/100)*s\n",
        "  IT=(11/100)*s\n",
        "else :\n",
        "  DA=(25/100)*s\n",
        "  HRA=(11/100)*s\n",
        "  MA=7000\n",
        "  PT=80\n",
        "  PF=(12/100)*s\n",
        "  IT=(20/100)*s\n",
        "def GS(x,y,z) :\n",
        "  x+y+z\n",
        "  return x+y+z\n",
        "def d(j,k,l) :\n",
        "  j+k+l\n",
        "  return j+k+l\n",
        "Gs=GS(DA,HRA,MA)\n",
        "D=d(PT,PF,IT)\n",
        "print(\"Your Salary is \",s)\n",
        "print(\"DA : \",DA)\n",
        "print(\"HRA : \",HRA)\n",
        "print(\"MA : \",MA)\n",
        "print(\"PT : \",PT)\n",
        "print(\"PF : \",PF)\n",
        "print(\"IT : \",IT)\n",
        "print(\"Gross Salary : \",Gs)\n",
        "print(\"Deduction : \",D)\n",
        "print(\"Net Salary : \",s+Gs-D)"
      ]
    },
    {
      "cell_type": "code",
      "source": [
        "from google.colab import drive\n",
        "drive.mount('/content/drive')"
      ],
      "metadata": {
        "id": "gyhk4cLgZHcJ"
      },
      "execution_count": null,
      "outputs": []
    },
    {
      "cell_type": "code",
      "source": [
        "\n",
        "def hpy():\n",
        "    a = int(input(\"Enter the Number: \"))\n",
        "    temp = a\n",
        "    for i in range(100):\n",
        "        b = 0\n",
        "        while a > 0:\n",
        "            digit = a % 10\n",
        "            b += digit ** 2\n",
        "            a //= 10\n",
        "        a = b\n",
        "        if a == 1:\n",
        "            print(temp, \"is a happy number\")\n",
        "            break\n",
        "    else:\n",
        "        print(temp, \"is not a happy number\")\n",
        "    return a\n",
        "\n",
        "# n = hpy()\n",
        "\n",
        "def ran():\n",
        "    r1 = int(input(\"Enter the number range starting from: \"))\n",
        "    r2 = int(input(\"Enter the number range ending at: \"))\n",
        "    for k in range(r1 + 1, r2):\n",
        "        K = k\n",
        "        for _ in range(100):\n",
        "            b = 0\n",
        "            while k > 0:\n",
        "                digit = k % 10\n",
        "                b += digit ** 2\n",
        "                k //= 10\n",
        "            k = b\n",
        "            if k == 1:\n",
        "                print(K)\n",
        "                break\n",
        "            return k\n",
        "\n",
        "# H = ran()\n",
        "def N () :\n",
        "    n = int(input(\"Enter the value of N : \"))\n",
        "    for k in range(n):\n",
        "        K = k\n",
        "        for _ in range(100):\n",
        "            b = 0\n",
        "            while k > 0:\n",
        "                digit = k % 10\n",
        "                b += digit ** 2\n",
        "                k //= 10\n",
        "            k = b\n",
        "            if k==1 :\n",
        "                print(K)\n",
        "                break\n",
        "    return k\n",
        "#P=N()\n"
      ],
      "metadata": {
        "colab": {
          "base_uri": "https://localhost:8080/"
        },
        "id": "ZNVbqpqfUCP8",
        "outputId": "9d2b348b-8a43-4598-fea1-f9d112e6c7ec"
      },
      "execution_count": null,
      "outputs": [
        {
          "output_type": "stream",
          "name": "stdout",
          "text": [
            "+\n",
            "-\n",
            "*\n",
            "/\n"
          ]
        }
      ]
    },
    {
      "cell_type": "code",
      "source": [],
      "metadata": {
        "id": "g9ffvIFaYp4n"
      },
      "execution_count": null,
      "outputs": []
    }
  ],
  "metadata": {
    "colab": {
      "provenance": [],
      "authorship_tag": "ABX9TyMKnBixCj1Nm60KHFh+dVxb",
      "include_colab_link": true
    },
    "kernelspec": {
      "display_name": "Python 3",
      "name": "python3"
    },
    "language_info": {
      "name": "python"
    }
  },
  "nbformat": 4,
  "nbformat_minor": 0
}