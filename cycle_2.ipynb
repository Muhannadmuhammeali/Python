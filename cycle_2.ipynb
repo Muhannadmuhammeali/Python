{
  "nbformat": 4,
  "nbformat_minor": 0,
  "metadata": {
    "colab": {
      "provenance": [],
      "authorship_tag": "ABX9TyMzgEvqX54GgidUrXUMGsoM",
      "include_colab_link": true
    },
    "kernelspec": {
      "name": "python3",
      "display_name": "Python 3"
    },
    "language_info": {
      "name": "python"
    }
  },
  "cells": [
    {
      "cell_type": "markdown",
      "metadata": {
        "id": "view-in-github",
        "colab_type": "text"
      },
      "source": [
        "<a href=\"https://colab.research.google.com/github/Muhannadmuhammeali/Python/blob/main/cycle_2.ipynb\" target=\"_parent\"><img src=\"https://colab.research.google.com/assets/colab-badge.svg\" alt=\"Open In Colab\"/></a>"
      ]
    },
    {
      "cell_type": "code",
      "execution_count": 7,
      "metadata": {
        "colab": {
          "base_uri": "https://localhost:8080/"
        },
        "id": "5QX8n6PWeNTj",
        "outputId": "fb480387-2a2a-4fdb-f807-657fdaf130de"
      },
      "outputs": [
        {
          "output_type": "stream",
          "name": "stdout",
          "text": [
            "Enter the number of months:  5\n",
            "Month\tpairs of rabbits\n",
            "1 \t 0\n",
            "2 \t 1\n",
            "3 \t 1\n",
            "4 \t 2\n",
            "5 \t 3\n"
          ]
        }
      ],
      "source": [
        "def rabbit_pairs(n):\n",
        "    if n ==0:\n",
        "        return 0\n",
        "    elif n ==1:\n",
        "        return 1\n",
        "    else:\n",
        "        return rabbit_pairs(n-1)+rabbit_pairs(n-2)\n",
        "\n",
        "n = int (input(\"Enter the number of months:  \"))\n",
        "print(\"Month\\tpairs of rabbits\")\n",
        "for i in range(n):\n",
        "    print(i+1, \"\\t\",rabbit_pairs(i))"
      ]
    },
    {
      "cell_type": "code",
      "source": [
        "# Read a string containing numbers separated by space and convert it into an int list\n",
        "print(\"ENTER LIST ELEMENTS\")\n",
        "str_list = list(map(int, input().split()))\n",
        "print(str_list)\n",
        "\n",
        "# Rotate the elements into kth position\n",
        "k = int(input(\"enter k:\"))\n",
        "list_rotated = [(str_list[(i - k) % len(str_list)]) for i in range(len(str_list))]\n",
        "\n",
        "# Removing duplicate elements\n",
        "list_no_duplicates = list(set(list_rotated))\n",
        "\n",
        "# Converting into a tuple\n",
        "tpl1 = tuple(list_no_duplicates)\n",
        "print(tpl1)\n",
        "\n",
        "# Evaluation of function\n",
        "list_no_duplicates.sort()\n",
        "list_squared = [(x**2 - x) for x in list_no_duplicates]\n",
        "print(list_squared)\n",
        "\n",
        "# Merging the two lists into a single sorted list\n",
        "list_final = sorted(list_squared + list_no_duplicates)\n",
        "print(list_final)"
      ],
      "metadata": {
        "colab": {
          "base_uri": "https://localhost:8080/"
        },
        "id": "pTE_DTk7gPy1",
        "outputId": "f7fb1357-898c-4ba7-e219-e6eda1eb4e2c"
      },
      "execution_count": 9,
      "outputs": [
        {
          "output_type": "stream",
          "name": "stdout",
          "text": [
            "ENTER LIST ELEMENTS\n",
            "5\n",
            "[5]\n",
            "enter k:3\n",
            "(5,)\n",
            "[20]\n",
            "[5, 20]\n"
          ]
        }
      ]
    },
    {
      "cell_type": "code",
      "source": [
        "import json\n",
        "\n",
        "file = open(\"iris.json\", \"r\")\n",
        "txt_file = file.read()\n",
        "print(txt_file)\n",
        "\n",
        "def calculate_total_area(flower):\n",
        "    sepal_area = flower.get(\"sepalLength\") * flower.get(\"sepalWidth\")\n",
        "    petal_area = flower.get(\"petalLength\") * flower.get(\"petalWidth\")\n",
        "    return sepal_area + petal_area\n",
        "\n",
        "\n",
        "list_of_dictionary = json.loads(txt_file)\n",
        "\n",
        "\n",
        "for i in list_of_dictionary:\n",
        "    if i.get(\"species\") == \"setosa\":\n",
        "        print(i)\n",
        "\n",
        "petal_lst = []\n",
        "sepal_lst = []\n",
        "for j in list_of_dictionary:\n",
        "    sepal_length = j.get('sepalLength')\n",
        "    sepal_width = j.get('sepalWidth')\n",
        "    petal_length = j.get('petalLength')\n",
        "    petal_width = j.get('petalWidth')\n",
        "\n",
        "    if all(v is not None for v in [sepal_length, sepal_width, petal_length, petal_width]):\n",
        "        petal_area = round(petal_length * petal_width, 2)\n",
        "        petal_lst.append(petal_area)\n",
        "        sepal_area = round(sepal_length * sepal_width, 2)\n",
        "        sepal_lst.append(sepal_area)\n",
        "    else:\n",
        "        print(\"Missing values for some attributes in the data.\")\n",
        "\n",
        "\n",
        "print(\"MAXIMUM SEPAL AREA:\", max(sepal_lst))\n",
        "print(\"MINIMUM PETAL AREA:\", min(petal_lst))\n",
        "\n",
        "\n",
        "sorted_list = sorted(list_of_dictionary, key=calculate_total_area, reverse=True)\n",
        "print(\"Sorted List based on Total Area:\")\n",
        "for item in sorted_list:\n",
        "    print(item)"
      ],
      "metadata": {
        "colab": {
          "base_uri": "https://localhost:8080/",
          "height": 245
        },
        "id": "YR5RUHBd0Nay",
        "outputId": "7366ca80-9cbb-4d1f-9ba9-5e8d6d1429aa"
      },
      "execution_count": 10,
      "outputs": [
        {
          "output_type": "error",
          "ename": "FileNotFoundError",
          "evalue": "[Errno 2] No such file or directory: 'iris.json'",
          "traceback": [
            "\u001b[0;31m---------------------------------------------------------------------------\u001b[0m",
            "\u001b[0;31mFileNotFoundError\u001b[0m                         Traceback (most recent call last)",
            "\u001b[0;32m<ipython-input-10-570465727b69>\u001b[0m in \u001b[0;36m<cell line: 3>\u001b[0;34m()\u001b[0m\n\u001b[1;32m      1\u001b[0m \u001b[0;32mimport\u001b[0m \u001b[0mjson\u001b[0m\u001b[0;34m\u001b[0m\u001b[0;34m\u001b[0m\u001b[0m\n\u001b[1;32m      2\u001b[0m \u001b[0;34m\u001b[0m\u001b[0m\n\u001b[0;32m----> 3\u001b[0;31m \u001b[0mfile\u001b[0m \u001b[0;34m=\u001b[0m \u001b[0mopen\u001b[0m\u001b[0;34m(\u001b[0m\u001b[0;34m\"iris.json\"\u001b[0m\u001b[0;34m,\u001b[0m \u001b[0;34m\"r\"\u001b[0m\u001b[0;34m)\u001b[0m\u001b[0;34m\u001b[0m\u001b[0;34m\u001b[0m\u001b[0m\n\u001b[0m\u001b[1;32m      4\u001b[0m \u001b[0mtxt_file\u001b[0m \u001b[0;34m=\u001b[0m \u001b[0mfile\u001b[0m\u001b[0;34m.\u001b[0m\u001b[0mread\u001b[0m\u001b[0;34m(\u001b[0m\u001b[0;34m)\u001b[0m\u001b[0;34m\u001b[0m\u001b[0;34m\u001b[0m\u001b[0m\n\u001b[1;32m      5\u001b[0m \u001b[0mprint\u001b[0m\u001b[0;34m(\u001b[0m\u001b[0mtxt_file\u001b[0m\u001b[0;34m)\u001b[0m\u001b[0;34m\u001b[0m\u001b[0;34m\u001b[0m\u001b[0m\n",
            "\u001b[0;31mFileNotFoundError\u001b[0m: [Errno 2] No such file or directory: 'iris.json'"
          ]
        }
      ]
    },
    {
      "cell_type": "code",
      "source": [
        "class Box:\n",
        "    def __init__(self,length,breadth=None,height=None):\n",
        "        #rectangular prism\n",
        "        self.Length=length\n",
        "        self.Breadth=breadth\n",
        "        self.Height=height\n",
        "\n",
        "        #cube\n",
        "        if breadth is None and height is None:\n",
        "            self.Breadth=length\n",
        "            self.Height=length\n",
        "        elif height is None:\n",
        "            self.Height=length\n",
        "\n",
        "    def Area(self):\n",
        "        area=2*(self.Length*self.Breadth+self.Breadth*self.Height+self.Length*self.Height)\n",
        "        return area\n",
        "\n",
        "    def volume(self):\n",
        "        vol=self.Length*self.Breadth*self.Height\n",
        "        return vol\n",
        "\n",
        "cube=Box(5)\n",
        "sq_prism=Box(5,4)\n",
        "rect_prisem=Box(5,4,3)\n",
        "print(\"AREA OF CUBE:\", cube.Area())\n",
        "print(\"VOLUME OF CUBE:\",cube.volume())\n",
        "\n",
        "print(\"AREA OF SQUARE PRISM:\", sq_prism.Area())\n",
        "print(\"VOLUME OF SQUARE PRISM:\",sq_prism.volume())\n",
        "\n",
        "print(\"AREA OF RECTANGULAR PRISM:\",rect_prisem.Area())\n",
        "print(\"VOLUME OF RECTANGULAR PRISM:\",rect_prisem.volume())"
      ],
      "metadata": {
        "colab": {
          "base_uri": "https://localhost:8080/"
        },
        "id": "-2GRs-3n0g-x",
        "outputId": "0a1dc140-4be3-4c7c-8bb8-a68e56fe1feb"
      },
      "execution_count": 12,
      "outputs": [
        {
          "output_type": "stream",
          "name": "stdout",
          "text": [
            "AREA OF CUBE: 150\n",
            "VOLUME OF CUBE: 125\n",
            "AREA OF SQUARE PRISM: 130\n",
            "VOLUME OF SQUARE PRISM: 100\n",
            "AREA OF RECTANGULAR PRISM: 94\n",
            "VOLUME OF RECTANGULAR PRISM: 60\n"
          ]
        }
      ]
    },
    {
      "cell_type": "code",
      "source": [
        "class ThreeDshapes:\n",
        "    def Printvolume(self):\n",
        "        pass\n",
        "    def Printarea(self):\n",
        "        pass\n",
        "\n",
        "class Sphere(ThreeDshapes):\n",
        "    def __init__(self,radius):\n",
        "        self.Radius=radius\n",
        "    def Printarea(self):\n",
        "        area=4*3.14*self.Radius**2\n",
        "        return area\n",
        "    def Printvolume(self):\n",
        "        vol=round(((4/3)*3.14*self.Radius**3),2)\n",
        "        return vol\n",
        "\n",
        "class Cylinder(ThreeDshapes):\n",
        "    def __init__(self,radius,hight):\n",
        "        self.Radius=radius\n",
        "        self.Hight=hight\n",
        "    def Printarea(self):\n",
        "        area=2*3.14*self.Radius*(self.Radius+self.Hight)\n",
        "        return area\n",
        "    def Printvolume(self):\n",
        "        vol=3.14*self.Hight*(self.Radius**2)\n",
        "        return vol\n",
        "SP=Sphere(6)\n",
        "print(\"AREA OF SPHERE :\", SP.Printarea())\n",
        "print(\"VOLUME OF SPHERE:\",SP.Printvolume())\n",
        "\n",
        "CY=Cylinder(6,10)\n",
        "print(\"AREA OF CYLINDER :\", CY.Printarea())\n",
        "print(\"VOLUME OF CYLINDER:\",CY.Printvolume())"
      ],
      "metadata": {
        "id": "OL9vjDUh04YJ",
        "outputId": "bdefeef8-2376-4421-de40-5c6294e7bacb",
        "colab": {
          "base_uri": "https://localhost:8080/"
        }
      },
      "execution_count": 13,
      "outputs": [
        {
          "output_type": "stream",
          "name": "stdout",
          "text": [
            "AREA OF SPHERE : 452.16\n",
            "VOLUME OF SPHERE: 904.32\n",
            "AREA OF CYLINDER : 602.88\n",
            "VOLUME OF CYLINDER: 1130.4\n"
          ]
        }
      ]
    }
  ]
}