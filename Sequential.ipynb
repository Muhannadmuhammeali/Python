{
  "nbformat": 4,
  "nbformat_minor": 0,
  "metadata": {
    "colab": {
      "provenance": [],
      "authorship_tag": "ABX9TyMuyEQTG7eWkHuPmcp8k7Hu",
      "include_colab_link": true
    },
    "kernelspec": {
      "name": "python3",
      "display_name": "Python 3"
    },
    "language_info": {
      "name": "python"
    }
  },
  "cells": [
    {
      "cell_type": "markdown",
      "metadata": {
        "id": "view-in-github",
        "colab_type": "text"
      },
      "source": [
        "<a href=\"https://colab.research.google.com/github/Muhannadmuhammeali/Python/blob/main/Sequential.ipynb\" target=\"_parent\"><img src=\"https://colab.research.google.com/assets/colab-badge.svg\" alt=\"Open In Colab\"/></a>"
      ]
    },
    {
      "cell_type": "code",
      "source": [
        "a=float(input(\"Enter Your Number\"))\n",
        "b=float(input(\"Enter Your Number\"))\n",
        "sum=a+b\n",
        "print(\"Sum of the \",a,\" and \",b,\" is \",sum)"
      ],
      "metadata": {
        "colab": {
          "base_uri": "https://localhost:8080/"
        },
        "id": "MsZAEvUbUOLb",
        "outputId": "191e1a54-5e48-4739-ab9a-b89f5466686f"
      },
      "execution_count": null,
      "outputs": [
        {
          "output_type": "stream",
          "name": "stdout",
          "text": [
            "Enter Your Number10\n",
            "Enter Your Number50\n",
            "Sum of the  10.0  and  50.0  is  60.0\n"
          ]
        }
      ]
    },
    {
      "cell_type": "code",
      "source": [
        "a=int(input(\"Enter Length of 1st side :\" ))\n",
        "b=int(input(\"Enter Length of 2nd side : \"))\n",
        "c=int(input(\"Enter Length of 3rd side : \"))\n",
        "x=a+b+c\n",
        "s=x/2\n",
        "p=s-a\n",
        "q=s-b\n",
        "r=s-c\n",
        "y=s*p*q*r\n",
        "ar=y**(1/2)\n",
        "print(\"Perimeter : \",x)\n",
        "print(\"Area : \",ar)"
      ],
      "metadata": {
        "colab": {
          "base_uri": "https://localhost:8080/"
        },
        "id": "PM2bFnrsVCjz",
        "outputId": "94182838-2f76-4244-bd01-f9e9c2949de7"
      },
      "execution_count": null,
      "outputs": [
        {
          "output_type": "stream",
          "name": "stdout",
          "text": [
            "Enter Length of 1st side :3\n",
            "Enter Length of 2nd side : 4\n",
            "Enter Length of 3rd side : 5\n",
            "Perimeter :  12\n",
            "Area :  6.0\n"
          ]
        }
      ]
    },
    {
      "cell_type": "code",
      "source": [
        "r=int(input(\"Enter the Radius : \"))\n",
        "a=3.14*r*r\n",
        "print(\"Area of the circle : \",a)"
      ],
      "metadata": {
        "colab": {
          "base_uri": "https://localhost:8080/"
        },
        "id": "n8cfqpx5aSx1",
        "outputId": "204250ec-642b-4e79-c3f5-409f0db8c67b"
      },
      "execution_count": null,
      "outputs": [
        {
          "output_type": "stream",
          "name": "stdout",
          "text": [
            "Enter the Radius : 3\n",
            "Area of the circle :  28.259999999999998\n"
          ]
        }
      ]
    },
    {
      "cell_type": "code",
      "source": [
        "a=int(input(\"Enter 1st Number :\" ))\n",
        "b=int(input(\"Enter 2nd Number : \"))\n",
        "c=int(input(\"Enter 3rd Number : \"))\n",
        "s=a+b+c\n",
        "x=s/3\n",
        "print(\"Sum : \",s)\n",
        "print(\"Average : \",x)"
      ],
      "metadata": {
        "colab": {
          "base_uri": "https://localhost:8080/"
        },
        "id": "lmcaO3lUbI1R",
        "outputId": "f8ebbe43-ac48-4e2b-c7ea-f8672c4e0205"
      },
      "execution_count": null,
      "outputs": [
        {
          "output_type": "stream",
          "name": "stdout",
          "text": [
            "Enter Length of 1st Number :3\n",
            "Enter Length of 2nd Number : 3\n",
            "Enter Length of 3rd Number : 3\n",
            "Sum :  9\n",
            "Average :  3.0\n"
          ]
        }
      ]
    },
    {
      "cell_type": "code",
      "source": [
        "a=int(input(\"Enter the number of Days : \"))\n",
        "b=a/365\n",
        "c=a/30\n",
        "print(\"Months : \",c)\n",
        "print(\"Years : \",b)"
      ],
      "metadata": {
        "colab": {
          "base_uri": "https://localhost:8080/"
        },
        "id": "Rqrv0S6DcQWA",
        "outputId": "62b9e063-8d4a-4d15-b646-0503db1f0c64"
      },
      "execution_count": null,
      "outputs": [
        {
          "output_type": "stream",
          "name": "stdout",
          "text": [
            "Enter the number of Days : 3\n",
            "Months :  0.1\n",
            "Years :  0.00821917808219178\n"
          ]
        }
      ]
    },
    {
      "cell_type": "code",
      "source": [
        "a=int(input(\"Enter the number of Seconds : \"))\n",
        "b=a//3600\n",
        "c=a%3600\n",
        "d=c//60\n",
        "e=c%60\n",
        "print(\"Hours : \",b)\n",
        "print(\"Minutes : \",d)\n",
        "print(\"Seconds : \",e)"
      ],
      "metadata": {
        "colab": {
          "base_uri": "https://localhost:8080/"
        },
        "id": "RnvBHtvEdbOZ",
        "outputId": "d9574918-e525-4dbf-b07c-125049ed1929"
      },
      "execution_count": null,
      "outputs": [
        {
          "output_type": "stream",
          "name": "stdout",
          "text": [
            "Enter the number of Seconds : 100\n",
            "Hours :  0\n",
            "Minutes :  1\n",
            "Seconds :  40\n"
          ]
        }
      ]
    },
    {
      "cell_type": "code",
      "source": [
        "a=int(input(\"Enter 1st Number :\" ))\n",
        "b=int(input(\"Enter 2nd Number : \"))\n",
        "s=a+b\n",
        "d=a-b\n",
        "p=a*b\n",
        "q=a/b\n",
        "print(\"Sum : \",s)\n",
        "print(\"Difference : \",d)\n",
        "print(\"product : \",p)\n",
        "print(\"qoutient : \",q)"
      ],
      "metadata": {
        "colab": {
          "base_uri": "https://localhost:8080/"
        },
        "id": "m7ACoo62euN6",
        "outputId": "d1ea4480-d3d3-439e-fced-194f9dcf2727"
      },
      "execution_count": null,
      "outputs": [
        {
          "output_type": "stream",
          "name": "stdout",
          "text": [
            "Enter 1st Number :20\n",
            "Enter 2nd Number : 10\n",
            "Sum :  30\n",
            "Difference :  10\n",
            "product :  200\n",
            "qoutient :  2.0\n"
          ]
        }
      ]
    },
    {
      "cell_type": "code",
      "source": [
        "a=int(input(\"Enter Coefficient of x^2 :\" ))\n",
        "b=int(input(\"Enter Coefficiet of x : \"))\n",
        "c=int(input(\"Enter Value of constant : \"))\n",
        "d=(b*b)-4*a*c\n",
        "e=-(-b+d**(1/2))/2*a\n",
        "f=-(-b-d**(1/2))/2*a\n",
        "print(\"The Roots of the equation \",a,\"x^2 + \",b,\" x + \",c,\" are \",e,\" and \",f )"
      ],
      "metadata": {
        "id": "zLfMAk7QgROs",
        "colab": {
          "base_uri": "https://localhost:8080/"
        },
        "outputId": "85086dae-b3f8-4b17-912c-2fbb8d2cd90e"
      },
      "execution_count": null,
      "outputs": [
        {
          "output_type": "stream",
          "name": "stdout",
          "text": [
            "Enter Coefficient of x^2 :1\n",
            "Enter Coefficiet of x : 2\n",
            "Enter Value of constant : 1\n",
            "The Roots of the equation  1 x^2 +  2  x +  1  are  1.0  and  1.0\n"
          ]
        }
      ]
    },
    {
      "cell_type": "code",
      "source": [
        "a=int(input(\"Enter Marks Obtained in OOPS : \"))\n",
        "b=int(input(\"Enter Marks Obtained in Maths : \"))\n",
        "c=int(input(\"Enter Marks Obtained in English : \"))\n",
        "d=int(input(\"Enter Marks Obtained in EVS : \"))\n",
        "e=int(input(\"Enter Marks Obtained in CT : \"))\n",
        "f=int(input(\"Enter Total Marks : \"))\n",
        "g=((a+b+c+d+e)*100)/f\n",
        "print(\"Percantage : \",g)"
      ],
      "metadata": {
        "colab": {
          "base_uri": "https://localhost:8080/"
        },
        "id": "QtHifNWwOub5",
        "outputId": "f82f49bd-c1fa-4e15-9aed-8c816c7deb56"
      },
      "execution_count": null,
      "outputs": [
        {
          "output_type": "stream",
          "name": "stdout",
          "text": [
            "Enter Marks Obtained in OOPS : 19\n",
            "Enter Marks Obtained in Maths : 18\n",
            "Enter Marks Obtained in English : 17\n",
            "Enter Marks Obtained in EVS : 16\n",
            "Enter Marks Obtained in CT : 15\n",
            "Enter Total Marks : 100\n",
            "Percantage :  85.0\n"
          ]
        }
      ]
    },
    {
      "cell_type": "code",
      "source": [
        "a=int(input(\"Enter degree Celsius to convert to Fahrenheit : \"))\n",
        "f=(a*9/5)+32\n",
        "print(\"Fahrenheit : \",f)"
      ],
      "metadata": {
        "colab": {
          "base_uri": "https://localhost:8080/"
        },
        "id": "jA_1k4SzS4FB",
        "outputId": "d7aeac21-67f2-49c4-941a-9f5f571ad4b7"
      },
      "execution_count": null,
      "outputs": [
        {
          "output_type": "stream",
          "name": "stdout",
          "text": [
            "Enter degree Celsius to convert to Fahrenheit : 100\n",
            "Fahrenheit :  212.0\n"
          ]
        }
      ]
    },
    {
      "cell_type": "code",
      "source": [
        "from google.colab import drive\n",
        "drive.mount('/content/drive')"
      ],
      "metadata": {
        "id": "FEKFvn_5ULtc"
      },
      "execution_count": null,
      "outputs": []
    }
  ]
}